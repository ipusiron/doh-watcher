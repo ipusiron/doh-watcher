{
 "cells": [
  {
   "cell_type": "markdown",
   "id": "6a4af750",
   "metadata": {},
   "source": [
    "# 🔍 DoH Watcher\n",
    "DNS over HTTPS (DoH) の効果を可視化・比較する教育向けツール。\n",
    "\n",
    "このノートブックでは、Google DoH と Cloudflare DoH を使って DNS クエリを実行し、応答時間を比較します。プライバシーとセキュリティの観点から、通常のDNSとの違いを体験的に学びましょう。\n"
   ]
  },
  {
   "cell_type": "code",
   "execution_count": null,
   "id": "a3114898",
   "metadata": {},
   "outputs": [],
   "source": [
    "# ドメインリストとクエリ回数の設定\n",
    "domains = ['example.com', 'google.com', 'cloudflare.com']\n",
    "query_count = 5\n"
   ]
  },
  {
   "cell_type": "code",
   "execution_count": null,
   "id": "cd559248",
   "metadata": {},
   "outputs": [],
   "source": [
    "import requests\n",
    "import time\n",
    "import pandas as pd\n",
    "import matplotlib.pyplot as plt\n",
    "import seaborn as sns\n"
   ]
  },
  {
   "cell_type": "code",
   "execution_count": null,
   "id": "b417014d",
   "metadata": {},
   "outputs": [],
   "source": [
    "DOH_GOOGLE = \"https://dns.google/resolve\"\n",
    "DOH_CLOUDFLARE = \"https://cloudflare-dns.com/dns-query\"\n",
    "\n",
    "def resolve_doh(domain, provider='google'):\n",
    "    try:\n",
    "        if provider == 'google':\n",
    "            start = time.time()\n",
    "            r = requests.get(DOH_GOOGLE, params={'name': domain, 'type': 'A'})\n",
    "            elapsed = (time.time() - start) * 1000\n",
    "        elif provider == 'cloudflare':\n",
    "            headers = {'accept': 'application/dns-json'}\n",
    "            start = time.time()\n",
    "            r = requests.get(DOH_CLOUDFLARE, params={'name': domain, 'type': 'A'}, headers=headers)\n",
    "            elapsed = (time.time() - start) * 1000\n",
    "        if r.status_code == 200:\n",
    "            return elapsed\n",
    "        else:\n",
    "            return None\n",
    "    except Exception:\n",
    "        return None\n"
   ]
  },
  {
   "cell_type": "code",
   "execution_count": null,
   "id": "aa0a11b4",
   "metadata": {},
   "outputs": [],
   "source": [
    "results = []\n",
    "\n",
    "for domain in domains:\n",
    "    for i in range(query_count):\n",
    "        elapsed_g = resolve_doh(domain, provider='google')\n",
    "        elapsed_c = resolve_doh(domain, provider='cloudflare')\n",
    "        results.append({\n",
    "            'domain': domain,\n",
    "            'provider': 'Google DoH',\n",
    "            'elapsed_ms': elapsed_g\n",
    "        })\n",
    "        results.append({\n",
    "            'domain': domain,\n",
    "            'provider': 'Cloudflare DoH',\n",
    "            'elapsed_ms': elapsed_c\n",
    "        })\n",
    "\n",
    "df = pd.DataFrame(results)\n",
    "df.head()\n"
   ]
  },
  {
   "cell_type": "code",
   "execution_count": null,
   "id": "13775a83",
   "metadata": {},
   "outputs": [],
   "source": [
    "avg_df = df.groupby(['domain', 'provider'])['elapsed_ms'].mean().reset_index()\n",
    "\n",
    "sns.set(style=\"whitegrid\")\n",
    "plt.figure(figsize=(10, 6))\n",
    "sns.barplot(data=avg_df, x='domain', y='elapsed_ms', hue='provider')\n",
    "plt.title(\"DoH DNS Query Response Time Comparison\")\n",
    "plt.ylabel(\"Average Response Time (ms)\")\n",
    "plt.xlabel(\"Domain\")\n",
    "plt.tight_layout()\n",
    "plt.show()\n"
   ]
  },
  {
   "cell_type": "markdown",
   "id": "48093e25",
   "metadata": {},
   "source": [
    "## 🧠 学びのポイント\n",
    "\n",
    "- 通常のDNSは暗号化されていないため、第三者から中身が見えてしまう。\n",
    "- DoH（DNS over HTTPS）は、HTTPSトンネル内にDNSクエリを通すことで、プライバシーとセキュリティを向上させます。\n",
    "- 一方で、通信の遅延や企業内監視の困難さといったトレードオフも存在します。\n",
    "- 教育・評価目的として、DoHは重要な現代インターネットの学習対象です。\n"
   ]
  }
 ],
 "metadata": {},
 "nbformat": 4,
 "nbformat_minor": 5
}