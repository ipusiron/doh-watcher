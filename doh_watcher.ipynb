{
 "cells": [
  {
   "cell_type": "markdown",
   "id": "175bf3fb",
   "metadata": {},
   "source": [
    "# 🔍 DoH Watcher - Standard DNSとの比較対応版\n",
    "DNS over HTTPS (DoH) の効果を可視化・比較する教育向けツール。\n",
    "\n",
    "このノートブックでは、Google DoH、Cloudflare DoH、そして通常のDNSを使ってDNSクエリを実行し、応答時間を比較します。\n"
   ]
  },
  {
   "cell_type": "code",
   "execution_count": null,
   "id": "5c8468fb",
   "metadata": {},
   "outputs": [],
   "source": [
    "# 検証対象ドメインとクエリ回数\n",
    "domains = ['example.com', 'google.com', 'cloudflare.com']\n",
    "query_count = 5\n"
   ]
  },
  {
   "cell_type": "code",
   "execution_count": null,
   "id": "403835be",
   "metadata": {},
   "outputs": [],
   "source": [
    "import requests\n",
    "import time\n",
    "import pandas as pd\n",
    "import matplotlib.pyplot as plt\n",
    "import seaborn as sns\n",
    "import socket\n"
   ]
  },
  {
   "cell_type": "code",
   "execution_count": null,
   "id": "454ee782",
   "metadata": {},
   "outputs": [],
   "source": [
    "DOH_GOOGLE = \"https://dns.google/resolve\"\n",
    "DOH_CLOUDFLARE = \"https://cloudflare-dns.com/dns-query\"\n",
    "\n",
    "def resolve_doh(domain, provider='google'):\n",
    "    try:\n",
    "        if provider == 'google':\n",
    "            start = time.time()\n",
    "            r = requests.get(DOH_GOOGLE, params={'name': domain, 'type': 'A'})\n",
    "            elapsed = (time.time() - start) * 1000\n",
    "        elif provider == 'cloudflare':\n",
    "            headers = {'accept': 'application/dns-json'}\n",
    "            start = time.time()\n",
    "            r = requests.get(DOH_CLOUDFLARE, params={'name': domain, 'type': 'A'}, headers=headers)\n",
    "            elapsed = (time.time() - start) * 1000\n",
    "        if r.status_code == 200:\n",
    "            return elapsed\n",
    "        else:\n",
    "            return None\n",
    "    except Exception:\n",
    "        return None\n",
    "\n",
    "def resolve_standard_dns(domain):\n",
    "    try:\n",
    "        start = time.time()\n",
    "        socket.gethostbyname(domain)\n",
    "        elapsed = (time.time() - start) * 1000\n",
    "        return elapsed\n",
    "    except Exception:\n",
    "        return None\n"
   ]
  },
  {
   "cell_type": "code",
   "execution_count": null,
   "id": "3091daf0",
   "metadata": {},
   "outputs": [],
   "source": [
    "results = []\n",
    "\n",
    "for domain in domains:\n",
    "    for i in range(query_count):\n",
    "        elapsed_std = resolve_standard_dns(domain)\n",
    "        elapsed_g = resolve_doh(domain, provider='google')\n",
    "        elapsed_c = resolve_doh(domain, provider='cloudflare')\n",
    "        results.append({'domain': domain, 'provider': 'Standard DNS', 'elapsed_ms': elapsed_std})\n",
    "        results.append({'domain': domain, 'provider': 'Google DoH', 'elapsed_ms': elapsed_g})\n",
    "        results.append({'domain': domain, 'provider': 'Cloudflare DoH', 'elapsed_ms': elapsed_c})\n",
    "\n",
    "df = pd.DataFrame(results)\n",
    "df.head()\n"
   ]
  },
  {
   "cell_type": "code",
   "execution_count": null,
   "id": "7b3f507d",
   "metadata": {},
   "outputs": [],
   "source": [
    "avg_df = df.groupby(['domain', 'provider'])['elapsed_ms'].mean().reset_index()\n",
    "\n",
    "sns.set(style=\"whitegrid\")\n",
    "plt.figure(figsize=(10, 6))\n",
    "sns.barplot(data=avg_df, x='domain', y='elapsed_ms', hue='provider')\n",
    "plt.title(\"DNS Query Response Time Comparison (Standard DNS vs DoH)\")\n",
    "plt.ylabel(\"Average Response Time (ms)\")\n",
    "plt.xlabel(\"Domain\")\n",
    "plt.tight_layout()\n",
    "plt.show()\n"
   ]
  },
  {
   "cell_type": "markdown",
   "id": "506a753b",
   "metadata": {},
   "source": [
    "## 🧠 学びのポイント\n",
    "\n",
    "- 通常のDNS（UDP 53番）は速いが、通信内容が暗号化されていないため第三者に見える。\n",
    "- DoHはHTTPS通信として送るため、内容が秘匿されプライバシーが守られる。\n",
    "- DoH導入によりやや遅延があるが、セキュリティとトレードオフの関係にある。\n",
    "- 通信の種類や目的、環境に応じた選択が重要。\n"
   ]
  }
 ],
 "metadata": {
  "language_info": {
   "name": "python"
  }
 },
 "nbformat": 4,
 "nbformat_minor": 5
}
